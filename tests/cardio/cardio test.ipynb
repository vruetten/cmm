{
 "cells": [
  {
   "cell_type": "code",
   "execution_count": 1,
   "id": "eb38a9fb",
   "metadata": {
    "ExecuteTime": {
     "end_time": "2023-04-18T10:21:00.880871Z",
     "start_time": "2023-04-18T10:20:59.372858Z"
    }
   },
   "outputs": [],
   "source": [
    "import numpy as np\n",
    "import matplotlib.pyplot as pl\n",
    "import pandas as pd\n",
    "import jax.numpy as jnp\n",
    "from glob import glob\n",
    "from mpl_toolkits.axes_grid1 import make_axes_locatable\n",
    "import os, sys\n",
    "from pathlib import Path\n",
    "import tifffile as tf\n",
    "from cmm import cmm\n",
    "from importlib import reload\n",
    "pl.style.use('dark_background')\n",
    "sys.path.append('/groups/ahrens/home/ruttenv/code/zfish/')\n",
    "from zfish.util import filesys as fs\n",
    "from zfish.nir import cardio as ca\n",
    "import zarr\n",
    "from time import time\n",
    "import matplotlib as mpl\n",
    "from types import SimpleNamespace  \n",
    "reload(cmm)\n",
    "# matplotlib.pyplot.rc('text', usetex=True)\n",
    "reload(cmm)\n",
    "import jax\n",
    "import jax.numpy as jnp\n",
    "\n",
    "# Global flag to set a specific platform, must be used at startup.\n",
    "jax.config.update(\"jax_platform_name\", \"cpu\")\n",
    "\n",
    "mpl.style.use('dark_background')"
   ]
  },
  {
   "cell_type": "code",
   "execution_count": 2,
   "id": "4522568f",
   "metadata": {
    "ExecuteTime": {
     "end_time": "2023-04-18T10:21:01.495374Z",
     "start_time": "2023-04-18T10:21:01.486849Z"
    },
    "scrolled": true
   },
   "outputs": [
    {
     "name": "stdout",
     "output_type": "stream",
     "text": [
      "cpu\n"
     ]
    }
   ],
   "source": [
    "from jax.lib import xla_bridge\n",
    "print(xla_bridge.get_backend().platform)"
   ]
  },
  {
   "cell_type": "code",
   "execution_count": 3,
   "id": "3c146e5e",
   "metadata": {
    "ExecuteTime": {
     "end_time": "2023-04-18T10:21:02.664837Z",
     "start_time": "2023-04-18T10:21:02.597514Z"
    }
   },
   "outputs": [
    {
     "name": "stdout",
     "output_type": "stream",
     "text": [
      "fnum: 474\n"
     ]
    }
   ],
   "source": [
    "base_dir = '/nrs/ahrens/Virginia_nrs/behavior_rig_flow/230304_f474_9dpf_casper/'\n",
    "fnum = fs.get_fnum(base_dir)\n",
    "print(f'fnum: {fnum}')\n",
    "\n",
    "exp = 0\n",
    "dirs_ = fs.get_subfolders(base_dir)\n",
    "folder_path = dirs_[f'exp{exp}']\n",
    "dirs = fs.get_subfolders(folder_path)\n",
    "os.makedirs(dirs['main'] + 'cmm', exist_ok=True)\n",
    "dirs = fs.get_subfolders(folder_path)\n",
    "plotpath = dirs['cmm'] + 'plots/'"
   ]
  },
  {
   "cell_type": "code",
   "execution_count": 32,
   "id": "ee633a69",
   "metadata": {
    "ExecuteTime": {
     "end_time": "2023-04-18T10:29:39.075406Z",
     "start_time": "2023-04-18T10:29:39.022402Z"
    }
   },
   "outputs": [
    {
     "name": "stdout",
     "output_type": "stream",
     "text": [
      "['/nrs/ahrens/Virginia_nrs/behavior_rig_flow/230304_f474_9dpf_casper/exp0/cmm//results/run.npy', '/nrs/ahrens/Virginia_nrs/behavior_rig_flow/230304_f474_9dpf_casper/exp0/cmm//results/run_loop.npy', '/nrs/ahrens/Virginia_nrs/behavior_rig_flow/230304_f474_9dpf_casper/exp0/cmm//results/run_loop2.npy', '/nrs/ahrens/Virginia_nrs/behavior_rig_flow/230304_f474_9dpf_casper/exp0/cmm//results/run_loop3_freqlim.npy', '/nrs/ahrens/Virginia_nrs/behavior_rig_flow/230304_f474_9dpf_casper/exp0/cmm//results/run_m10.npy']\n",
      "/nrs/ahrens/Virginia_nrs/behavior_rig_flow/230304_f474_9dpf_casper/exp0/cmm//results/run_loop3_freqlim.npy\n"
     ]
    }
   ],
   "source": [
    "fpaths = glob(dirs[\"cmm\"] + '/results/*.npy')\n",
    "print(fpaths)\n",
    "ind = 3\n",
    "print(fpaths[ind])\n",
    "if len(fpaths)>0:\n",
    "    r = np.load(fpaths[ind], allow_pickle = True).item()\n",
    "# cm = SimpleNamespace(**r)"
   ]
  },
  {
   "cell_type": "code",
   "execution_count": 33,
   "id": "a8b6ef89",
   "metadata": {
    "ExecuteTime": {
     "end_time": "2023-04-18T10:29:40.134149Z",
     "start_time": "2023-04-18T10:29:39.579792Z"
    }
   },
   "outputs": [],
   "source": [
    "impath = glob(dirs[\"imag_crop\"] + \"*.tif\")[0]\n",
    "imzarr = tf.imread(impath, aszarr=True)\n",
    "im = zarr.open(imzarr, mode=\"r\")[: 15*30]\n",
    "t, x, y = im.shape\n",
    "xnt = im.reshape([t, -1]).T"
   ]
  },
  {
   "cell_type": "code",
   "execution_count": 55,
   "id": "4d3ac21d",
   "metadata": {
    "ExecuteTime": {
     "end_time": "2023-04-18T10:39:08.881433Z",
     "start_time": "2023-04-18T10:39:06.240357Z"
    }
   },
   "outputs": [
    {
     "name": "stdout",
     "output_type": "stream",
     "text": [
      "nperseg: 60\n",
      "31 (31,) (17, 450, 31)\n",
      "31 (31,) (17, 450, 31)\n",
      "at ite: 0, time: 0.0mins\n",
      "time: 2\n"
     ]
    }
   ],
   "source": [
    "reload(utils)\n",
    "reload(cmm)\n",
    "\n",
    "fps = 0.3\n",
    "nperseg = int(fps * 200)\n",
    "noverlap = int(0.6 * nperseg)\n",
    "freq_minmax = [-np.inf, np.inf]\n",
    "freq_minmax = [0, 0.05]\n",
    "opt_in_freqdom = True\n",
    "print(f'nperseg: {nperseg}')\n",
    "m = 20\n",
    "t0 = time()\n",
    "cm = cmm.CMM(\n",
    "    xnt,\n",
    "    m=m,\n",
    "    fs=fps,\n",
    "    nperseg=nperseg,\n",
    "    noverlap=noverlap,\n",
    "    freq_minmax=freq_minmax,\n",
    "    opt_in_freqdom=opt_in_freqdom,\n",
    ")\n",
    "\n",
    "cm.optimize(1)\n",
    "t1 = time()\n",
    "tt = int(t1 - t0)\n",
    "print(f\"time: {tt}\")\n"
   ]
  },
  {
   "cell_type": "code",
   "execution_count": 57,
   "id": "6b794ccc",
   "metadata": {
    "ExecuteTime": {
     "end_time": "2023-04-18T10:39:18.939492Z",
     "start_time": "2023-04-18T10:39:18.937212Z"
    }
   },
   "outputs": [
    {
     "data": {
      "text/plain": [
       "(4,)"
      ]
     },
     "execution_count": 57,
     "metadata": {},
     "output_type": "execute_result"
    }
   ],
   "source": [
    "cm.freqs.shape"
   ]
  },
  {
   "cell_type": "code",
   "execution_count": null,
   "id": "39a7f0f7",
   "metadata": {},
   "outputs": [],
   "source": []
  },
  {
   "cell_type": "code",
   "execution_count": 58,
   "id": "6091cb8f",
   "metadata": {
    "ExecuteTime": {
     "end_time": "2023-04-18T10:39:24.328580Z",
     "start_time": "2023-04-18T10:39:24.326213Z"
    }
   },
   "outputs": [
    {
     "data": {
      "text/plain": [
       "60"
      ]
     },
     "execution_count": 58,
     "metadata": {},
     "output_type": "execute_result"
    }
   ],
   "source": [
    "cm.nperseg"
   ]
  },
  {
   "cell_type": "code",
   "execution_count": 35,
   "id": "8f29261f",
   "metadata": {
    "ExecuteTime": {
     "end_time": "2023-04-18T10:29:58.408496Z",
     "start_time": "2023-04-18T10:29:58.405789Z"
    }
   },
   "outputs": [
    {
     "data": {
      "text/plain": [
       "dict_keys([10])"
      ]
     },
     "execution_count": 35,
     "metadata": {},
     "output_type": "execute_result"
    }
   ],
   "source": [
    "r.keys()"
   ]
  },
  {
   "cell_type": "code",
   "execution_count": null,
   "id": "cc62273c",
   "metadata": {
    "ExecuteTime": {
     "end_time": "2023-04-18T09:59:58.431806Z",
     "start_time": "2023-04-18T09:59:58.429715Z"
    }
   },
   "outputs": [],
   "source": [
    "sil = []\n",
    "for i in r.keys():\n",
    "    sil.append((i, r[i]['silhouette']))\n",
    "sil = np.array(list(zip(sil))).squeeze()"
   ]
  },
  {
   "cell_type": "code",
   "execution_count": null,
   "id": "68d9cbb2",
   "metadata": {
    "ExecuteTime": {
     "end_time": "2023-04-18T10:00:16.337317Z",
     "start_time": "2023-04-18T10:00:16.335266Z"
    }
   },
   "outputs": [],
   "source": []
  },
  {
   "cell_type": "code",
   "execution_count": null,
   "id": "2bc44e6d",
   "metadata": {
    "ExecuteTime": {
     "end_time": "2023-04-18T10:01:55.991327Z",
     "start_time": "2023-04-18T10:01:55.887251Z"
    },
    "scrolled": true
   },
   "outputs": [],
   "source": [
    "pl.figure(figsize = (10, 3))\n",
    "pl.plot(sil[:,0], sil[:,1],'o-')\n",
    "pl.xlabel('cluster #')\n",
    "pl.ylabel('silhouette')"
   ]
  },
  {
   "cell_type": "code",
   "execution_count": 41,
   "id": "d83a9943",
   "metadata": {
    "ExecuteTime": {
     "end_time": "2023-04-18T10:31:06.979853Z",
     "start_time": "2023-04-18T10:31:06.977706Z"
    }
   },
   "outputs": [],
   "source": [
    "vals = list(r.keys())\n",
    "cm = SimpleNamespace(**r[vals[0]]['r'])"
   ]
  },
  {
   "cell_type": "code",
   "execution_count": 43,
   "id": "9500f8b1",
   "metadata": {
    "ExecuteTime": {
     "end_time": "2023-04-18T10:31:10.905147Z",
     "start_time": "2023-04-18T10:31:10.901658Z"
    },
    "scrolled": true
   },
   "outputs": [
    {
     "data": {
      "text/plain": [
       "(array([0, 1, 2, 3, 4, 5, 6, 7, 8, 9], dtype=int32),\n",
       " array([575, 466, 754, 678, 682, 470, 504, 655, 438, 378]))"
      ]
     },
     "execution_count": 43,
     "metadata": {},
     "output_type": "execute_result"
    }
   ],
   "source": [
    "np.unique(cm.labels, return_counts= True)"
   ]
  },
  {
   "cell_type": "code",
   "execution_count": 44,
   "id": "1c847378",
   "metadata": {
    "ExecuteTime": {
     "end_time": "2023-04-18T10:31:17.161259Z",
     "start_time": "2023-04-18T10:31:11.802803Z"
    }
   },
   "outputs": [],
   "source": [
    "indices = [np.argwhere(cm.labels ==i).squeeze() for i in np.unique(cm.labels)]\n",
    "cluster_coherence_m2f = cmm.compute_cluster_coherence(cm.coherence_mnf, cm.labels)\n",
    "order = np.argsort(cluster_coherence_m2f[:,:,5:].max(axis = -1)[:,0])[::-1]"
   ]
  },
  {
   "cell_type": "code",
   "execution_count": 45,
   "id": "5039294b",
   "metadata": {
    "ExecuteTime": {
     "end_time": "2023-04-18T10:31:17.292828Z",
     "start_time": "2023-04-18T10:31:17.163087Z"
    }
   },
   "outputs": [
    {
     "data": {
      "image/png": "[encoded data removed]",
      "text/plain": [
       "<Figure size 1200x300 with 1 Axes>"
      ]
     },
     "metadata": {},
     "output_type": "display_data"
    }
   ],
   "source": [
    "for d in list(r.keys()):\n",
    "    cm = SimpleNamespace(**r[d]['r'])\n",
    "    pl.figure()\n",
    "    pl.imshow(cm.labels.reshape([x,y]), cmap='tab20')\n",
    "    pl.axis('off')\n",
    "    pl.title(d)"
   ]
  },
  {
   "cell_type": "code",
   "execution_count": 46,
   "id": "c7d3eed3",
   "metadata": {
    "ExecuteTime": {
     "end_time": "2023-04-18T10:31:21.929644Z",
     "start_time": "2023-04-18T10:31:19.667871Z"
    }
   },
   "outputs": [],
   "source": [
    "coherence_im_mf = cm.coherence_mnf.reshape([cm.m, x, y, -1]).transpose([0,3,1,2])\n",
    "angles_mkfxy, angles_mfxy_mean, angles_mfxy_std = cmm.compute_average_phase_shift(cm.coefs_xnkf, cm.coefs_ymkf, x = x, y = y)\n",
    "labels_im = cm.labels.reshape([x, y])\n"
   ]
  },
  {
   "cell_type": "code",
   "execution_count": 47,
   "id": "8d8747bd",
   "metadata": {
    "ExecuteTime": {
     "end_time": "2023-04-18T10:31:22.037604Z",
     "start_time": "2023-04-18T10:31:21.931477Z"
    }
   },
   "outputs": [
    {
     "name": "stderr",
     "output_type": "stream",
     "text": [
      "/tmp/ipykernel_2152293/3729857060.py:7: RuntimeWarning: Mean of empty slice\n",
      "  weighted_angles_mfxy_mean = np.nanmean(weight_image(angles_mfxy_mean, coherence_im_mf, thresh), axis = -1)\n",
      "/tmp/ipykernel_2152293/3729857060.py:8: RuntimeWarning: Mean of empty slice\n",
      "  weighted_angles_mfxy_std = np.nanmean(weight_image(angles_mfxy_std, coherence_im_mf, thresh), axis = -1)/np.sqrt(k)\n"
     ]
    }
   ],
   "source": [
    "def weight_image(angles, coherence, thresh):\n",
    "    tmp = angles.copy()\n",
    "    tmp[coherence<thresh] = np.nan\n",
    "    return tmp\n",
    "k, f = angles_mkfxy.shape[1:3]\n",
    "thresh = 0.8\n",
    "weighted_angles_mfxy_mean = np.nanmean(weight_image(angles_mfxy_mean, coherence_im_mf, thresh), axis = -1)\n",
    "weighted_angles_mfxy_std = np.nanmean(weight_image(angles_mfxy_std, coherence_im_mf, thresh), axis = -1)/np.sqrt(k)\n",
    "abs_fxy_std = np.std(np.abs(cm.coefs_xnkf), axis = 1).reshape([x, y, f]).transpose([2,0,1])"
   ]
  },
  {
   "cell_type": "code",
   "execution_count": 48,
   "id": "dd956305",
   "metadata": {
    "ExecuteTime": {
     "end_time": "2023-04-18T10:31:22.040998Z",
     "start_time": "2023-04-18T10:31:22.039176Z"
    }
   },
   "outputs": [],
   "source": [
    "# ksize = 1\n",
    "# tmp = angles_mfxy_mean[order[i],ff][::-1].T\n",
    "# gX = cv2.Sobel(-tmp, ddepth =cv2.CV_32F,  dx=0, dy=1, ksize=ksize)\n",
    "# pl.imshow(gX, cmap = 'gray')\n",
    "# pl.figure()\n",
    "# pl.imshow(tmp)"
   ]
  },
  {
   "cell_type": "code",
   "execution_count": 52,
   "id": "8411ce98",
   "metadata": {
    "ExecuteTime": {
     "end_time": "2023-04-18T10:31:45.211739Z",
     "start_time": "2023-04-18T10:31:45.208992Z"
    }
   },
   "outputs": [
    {
     "data": {
      "text/plain": [
       "0.8764607679465777"
      ]
     },
     "execution_count": 52,
     "metadata": {},
     "output_type": "execute_result"
    }
   ],
   "source": [
    "cm.freq[35]"
   ]
  },
  {
   "cell_type": "code",
   "execution_count": null,
   "id": "d7ab65e6",
   "metadata": {},
   "outputs": [],
   "source": []
  },
  {
   "cell_type": "code",
   "execution_count": 49,
   "id": "69581939",
   "metadata": {
    "ExecuteTime": {
     "end_time": "2023-04-18T10:31:23.263295Z",
     "start_time": "2023-04-18T10:31:22.042393Z"
    },
    "scrolled": false
   },
   "outputs": [
    {
     "data": {
      "image/png": "[encoded data removed]",
      "text/plain": [
       "<Figure size 1500x1000 with 10 Axes>"
      ]
     },
     "metadata": {},
     "output_type": "display_data"
    }
   ],
   "source": [
    "i = 0\n",
    "ff = 35\n",
    "alpha = coherence_im_mf[order[i],ff]\n",
    "fig, axs = pl.subplots(nrows = 2, ncols = 3, sharex = True, figsize = (15, 10))\n",
    "im0 = axs[0,0].pcolormesh(angles_mfxy_mean[order[i],ff][::-1].T, cmap = 'coolwarm', alpha = alpha[::-1].T)\n",
    "im1 = axs[0,1].pcolormesh(angles_mfxy_std[order[i],ff][::-1].T, cmap = 'afmhot', alpha = alpha[::-1].T)\n",
    "m = weighted_angles_mfxy_mean[order[i],ff][::-1]\n",
    "st = weighted_angles_mfxy_std[order[i],ff][::-1]\n",
    "axs[1,0].fill_between(np.arange(x), m + st, m-st)\n",
    "\n",
    "im3 = axs[1,1].pcolormesh(abs_fxy_std[ff][::-1].T, cmap = 'coolwarm', alpha = alpha[::-1].T)\n",
    "im2 = axs[0,2].pcolormesh(coherence_im_mf[order[i],ff][::-1].T, cmap = 'coolwarm')\n",
    "levels = 10\n",
    "# axs[0,2].contour(X, Y, coherence_im_mf[order[ind],ff].reshape([x,y])[::-1].T, \\\n",
    "#                  alpha = 1,  cmap = 'coolwarm',levels = levels)\n",
    "# axs[1,2].contour(X, Y, angles_mfxy_mean[order[i],ff][::-1].T, alpha = 1)\n",
    "\n",
    "axs[0,0].set_title('average phase')\n",
    "axs[0,1].set_title('variance of phase')\n",
    "axs[1,1].set_title('variance in magnitude')\n",
    "axs[0,2].set_title('coherence')\n",
    "axs[1,0].set_ylabel('phase')\n",
    "# [axs[0,i].axis('off') for i in range(2)]\n",
    "divider = make_axes_locatable(axs[0,0])\n",
    "divider = make_axes_locatable(axs[0,1])\n",
    "divider = make_axes_locatable(axs[0,2])\n",
    "divider = make_axes_locatable(axs[1,1])\n",
    "fig.colorbar(im0, ax=axs[0,0], orientation='horizontal')\n",
    "fig.colorbar(im1, ax=axs[0,1], orientation='horizontal')\n",
    "fig.colorbar(im2, ax=axs[0,2], orientation='horizontal')\n",
    "fig.colorbar(im3, ax=axs[1,1], orientation='horizontal')\n",
    "\n",
    "ind = 0\n",
    "ff = 35\n",
    "xa = np.arange(x)\n",
    "ya = np.arange(y)\n",
    "X, Y = np.meshgrid(xa, ya)\n",
    "# fig, ax = pl.subplots()\n",
    "\n",
    "\n",
    "pl.savefig(plotpath + '0 - phase ana')"
   ]
  },
  {
   "cell_type": "code",
   "execution_count": null,
   "id": "4239e219",
   "metadata": {},
   "outputs": [],
   "source": []
  },
  {
   "cell_type": "code",
   "execution_count": null,
   "id": "2bc8f7ff",
   "metadata": {
    "ExecuteTime": {
     "end_time": "2023-04-18T02:04:52.437279Z",
     "start_time": "2023-04-18T02:04:46.820630Z"
    }
   },
   "outputs": [],
   "source": [
    "m, k, f = cm.coefs_ymkf.shape\n",
    "cross_coefs_mnkf = (cm.coefs_xnkf[None]*np.conj(cm.coefs_ymkf[:,None]))\n",
    "cross_coefs_mnf_mean = np.mean(np.angle(cross_coefs_mnkf), axis = 2).reshape([m, x, y, f]).transpose([0,3,1,2])\n",
    "cross_coefs_mnf_std= np.std(np.angle(cross_coefs_mnkf), axis = 2).reshape([m, x, y, f]).transpose([0,3,1,2])\n",
    "weighted_cross_coefs_mnf_std = (cross_coefs_mnf_std*tmp).mean(3)\n",
    "weighted_cross_coefs_mnf_mean = (cross_coefs_mnf_mean*tmp).mean(3)"
   ]
  },
  {
   "cell_type": "code",
   "execution_count": null,
   "id": "a8e7ce1f",
   "metadata": {},
   "outputs": [],
   "source": [
    "# pl.imshow(cross_coefs_mnf_mean[order[0],35][::-1].T)"
   ]
  },
  {
   "cell_type": "code",
   "execution_count": null,
   "id": "fb4bf1e0",
   "metadata": {
    "scrolled": false
   },
   "outputs": [],
   "source": [
    "from mpl_toolkits.axes_grid1 import make_axes_locatable\n",
    "i = 1\n",
    "ff = 35\n",
    "alpha = coherence_im_mf[order[i],ff]\n",
    "fig, axs = pl.subplots(nrows = 2, ncols = 2, sharex = True, figsize = (12, 12))\n",
    "im0 = axs[0,0].pcolormesh(angles_im_mf[order[i],ff][::-1].T, cmap = 'coolwarm', alpha = alpha[::-1].T)\n",
    "im1 = axs[0,1].pcolormesh(cross_coefs_mnf_std[order[i],ff][::-1].T, cmap = 'afmhot', alpha = alpha[::-1].T)\n",
    "# axs[1,0].plot(weighted_angleline_mf[order[i],ff][::-1])\n",
    "axs[1,0].plot(weighted_cross_coefs_mnf_mean[order[i],ff][::-1])\n",
    "axs[1,1].plot(weighted_cross_coefs_mnf_std[order[i],ff][::-1])\n",
    "[axs[0,i].axis('off') for i in range(2)]\n",
    "divider = make_axes_locatable(axs[0,0])\n",
    "divider = make_axes_locatable(axs[0,1])\n",
    "fig.colorbar(im0, ax=axs[0,0], orientation='horizontal')\n",
    "fig.colorbar(im1, ax=axs[0,1], orientation='horizontal')\n",
    "    \n",
    "# pl.imshow(np.angle(weighted_im_mf)[order[ind],ff].T)\n",
    "# pl.colorbar()\n",
    "# pl.hist(angles_im_mf[order[0], ff][labels_im == order[ind]], bins = 40);"
   ]
  },
  {
   "cell_type": "code",
   "execution_count": null,
   "id": "9016c88a",
   "metadata": {},
   "outputs": [],
   "source": []
  },
  {
   "cell_type": "code",
   "execution_count": null,
   "id": "2995792b",
   "metadata": {},
   "outputs": [],
   "source": []
  },
  {
   "cell_type": "code",
   "execution_count": null,
   "id": "5047da81",
   "metadata": {},
   "outputs": [],
   "source": [
    "pl.plot(weighted_line_mf[order[0],ff])"
   ]
  },
  {
   "cell_type": "code",
   "execution_count": null,
   "id": "f12e0acb",
   "metadata": {},
   "outputs": [],
   "source": [
    "# i = 4\n",
    "# ff = 35\n",
    "# alpha = coherence_im_mf[i,ff]\n",
    "# pl.imshow(np.diff(angles_im_mf[i,ff], axis = 1), cmap = 'coolwarm', alpha = alpha)\n",
    "# pl.colorbar()\n",
    "# pl.clim([-20,20])"
   ]
  },
  {
   "cell_type": "code",
   "execution_count": null,
   "id": "2be77d4c",
   "metadata": {},
   "outputs": [],
   "source": []
  },
  {
   "cell_type": "code",
   "execution_count": null,
   "id": "5dd02ac7",
   "metadata": {},
   "outputs": [],
   "source": []
  },
  {
   "cell_type": "code",
   "execution_count": null,
   "id": "483e3bd0",
   "metadata": {
    "scrolled": false
   },
   "outputs": [],
   "source": [
    "cmap = pl.get_cmap('plasma')\n",
    "ind = 0\n",
    "pl.figure(figsize = (21, 3))\n",
    "for i, ind in enumerate(order):\n",
    "    pl.plot(cm.freq, cm.coherence_mnf[order[ind],indices[ind]].mean(0),'-', label = ind, alpha = .8, color = cmap(1-i/cm.m))\n",
    "pl.legend(fontsize = 10)\n",
    "pl.ylabel('coherence')\n",
    "pl.xlabel('frequency [Hz]')\n",
    "# pl.savefig(plotpath + 'spectra', transparent = True, bbox_inches = 'tight')\n",
    "\n",
    "pl.figure()\n",
    "pl.title('clusters')\n",
    "pl.imshow(cm.labels.reshape([x, y]), interpolation=None, cmap = 'tab20')\n",
    "pl.axis('off')\n",
    "pl.colorbar()\n",
    "pl.savefig(plotpath + 'labels', transparent = True, bbox_inches = 'tight')\n"
   ]
  },
  {
   "cell_type": "code",
   "execution_count": null,
   "id": "cf8ebb51",
   "metadata": {
    "scrolled": false
   },
   "outputs": [],
   "source": []
  },
  {
   "cell_type": "code",
   "execution_count": null,
   "id": "acc05e69",
   "metadata": {
    "ExecuteTime": {
     "end_time": "2023-04-08T22:12:37.027489Z",
     "start_time": "2023-04-08T22:12:36.996465Z"
    },
    "scrolled": false
   },
   "outputs": [],
   "source": [
    "impath = glob(dirs['imag_crop'] + '*.tif')[0]\n",
    "im = tf.imread(impath)\n",
    "dt, dx, dy = im.shape \n",
    "fps = 15.0\n",
    "nperseg = int(fps*20)\n",
    "noverlap = int(0.8*nperseg)\n",
    "freq_minmax = [-np.inf, np.inf]\n",
    "# freq_minmax = [1,4]"
   ]
  },
  {
   "cell_type": "code",
   "execution_count": null,
   "id": "e6ad4c3b",
   "metadata": {
    "ExecuteTime": {
     "end_time": "2023-04-08T22:12:38.516194Z",
     "start_time": "2023-04-08T22:12:38.460563Z"
    }
   },
   "outputs": [],
   "source": [
    "pl.title('raw')\n",
    "pl.imshow(im[10], cmap = 'gray')\n",
    "pl.axis('off')\n",
    "pl.show()"
   ]
  },
  {
   "cell_type": "code",
   "execution_count": null,
   "id": "97311168",
   "metadata": {
    "ExecuteTime": {
     "end_time": "2023-04-08T22:12:39.248689Z",
     "start_time": "2023-04-08T22:12:39.246803Z"
    }
   },
   "outputs": [],
   "source": [
    "xnt = im.reshape([dt, dx*dy]).T"
   ]
  },
  {
   "cell_type": "code",
   "execution_count": null,
   "id": "e3fefcf0",
   "metadata": {
    "ExecuteTime": {
     "end_time": "2023-04-08T22:12:43.893488Z",
     "start_time": "2023-04-08T22:12:40.526396Z"
    }
   },
   "outputs": [],
   "source": [
    "reload(cmm)\n",
    "opt_in_freqdom = True\n",
    "k = 10\n",
    "cm = cmm.CMM(\n",
    "    xnt.astype('float32'),\n",
    "    k=k,\n",
    "    fs=fps,\n",
    "    nperseg=nperseg,\n",
    "    noverlap=noverlap,\n",
    "    freq_minmax=freq_minmax,\n",
    "    opt_in_freqdom=opt_in_freqdom,\n",
    ")"
   ]
  },
  {
   "cell_type": "code",
   "execution_count": null,
   "id": "83354349",
   "metadata": {
    "ExecuteTime": {
     "end_time": "2023-04-08T22:15:03.766124Z",
     "start_time": "2023-04-08T22:12:44.579252Z"
    }
   },
   "outputs": [],
   "source": [
    "cm.optimize(100)"
   ]
  },
  {
   "cell_type": "code",
   "execution_count": null,
   "id": "a7d95b5f",
   "metadata": {
    "ExecuteTime": {
     "end_time": "2023-04-08T22:15:03.769445Z",
     "start_time": "2023-04-08T22:15:03.767698Z"
    }
   },
   "outputs": [],
   "source": [
    "# cm.analyse_results()"
   ]
  },
  {
   "cell_type": "code",
   "execution_count": null,
   "id": "b9aa6968",
   "metadata": {
    "ExecuteTime": {
     "end_time": "2023-04-08T22:25:36.499969Z",
     "start_time": "2023-04-08T22:25:36.130523Z"
    }
   },
   "outputs": [],
   "source": [
    "coherence_mnf = cm.compute_cross_coherence_from_coefs(\n",
    "            cm.coefs_ymkf, cm.coefs_xnkf)\n",
    "labels_unique, labels_count = np.unique(cm.labels, return_counts=True)\n",
    "indices = [np.argwhere(cm.labels ==i).squeeze() for i in labels_unique]\n",
    "cluster_coherence = cm.compute_cluster_coherence(coherence_mnf, cm.labels)\n",
    "order = np.argsort(cluster_coherence[:,:,5:].max(axis = -1)[:,0])[::-1]"
   ]
  },
  {
   "cell_type": "code",
   "execution_count": null,
   "id": "be83fc2d",
   "metadata": {
    "ExecuteTime": {
     "end_time": "2023-04-08T22:15:34.138329Z",
     "start_time": "2023-04-08T22:15:23.897385Z"
    }
   },
   "outputs": [],
   "source": [
    "ymtf = jnp.einsum(\"mkf,ktf->mtf\", cm.coefs_ymkf, cm.valid_iDFT_Wktf).real\n",
    "xntf = jnp.einsum(\"mkf,ktf->mtf\", cm.coefs_xnkf, cm.valid_iDFT_Wktf).real"
   ]
  },
  {
   "cell_type": "code",
   "execution_count": null,
   "id": "d70e89da",
   "metadata": {
    "ExecuteTime": {
     "end_time": "2023-04-08T22:15:36.298694Z",
     "start_time": "2023-04-08T22:15:34.139900Z"
    }
   },
   "outputs": [],
   "source": [
    "xmean = xnt[indices[0]]\n",
    "pxf, freqs = cm.estimate_spectrum(xmean, x_in_coefs=False)\n",
    "print(pxf.shape)\n",
    "pl.plot(freqs[2:], pxf[:,2:].T,'.-');"
   ]
  },
  {
   "cell_type": "code",
   "execution_count": null,
   "id": "a81b5d07",
   "metadata": {
    "ExecuteTime": {
     "end_time": "2023-04-08T22:22:24.768077Z",
     "start_time": "2023-04-08T22:22:24.174063Z"
    }
   },
   "outputs": [],
   "source": [
    "cmap = pl.get_cmap('plasma')\n",
    "ind = 0\n",
    "for i, ind in enumerate(order):\n",
    "    pl.plot(cm.freq, coherence_mnf[order[ind],indices[ind]].mean(0),'-', label = ind, alpha = .8, color = cmap(1-i/cm.k))\n",
    "pl.legend(fontsize = 10)\n",
    "pl.ylabel('coherence')\n",
    "pl.xlabel('frequency [Hz]')\n",
    "pl.savefig(dirs['cmm'] + 'spectra', transparent = True, bbox_inches = 'tight')\n",
    "\n",
    "pl.figure()\n",
    "pl.title('clusters')\n",
    "pl.imshow(cm.labels.reshape([dx, dy]), interpolation=None, cmap = 'tab20')\n",
    "pl.axis('off')\n",
    "pl.colorbar()\n",
    "pl.savefig(dirs['cmm'] + 'labels', transparent = True, bbox_inches = 'tight')"
   ]
  },
  {
   "cell_type": "code",
   "execution_count": null,
   "id": "004b56f6",
   "metadata": {
    "ExecuteTime": {
     "end_time": "2023-04-09T00:01:41.549083Z",
     "start_time": "2023-04-09T00:01:41.423611Z"
    }
   },
   "outputs": [],
   "source": [
    "pl.figure(figsize = (5,5))\n",
    "pl.plot(np.abs(cm.coefs_xnkf[indices[1]]).mean(0)[:,ff],np.abs(cm.coefs_xnkf[indices[2]]).mean(0)[:,ff],'o')"
   ]
  },
  {
   "cell_type": "code",
   "execution_count": null,
   "id": "6f5b3cc9",
   "metadata": {
    "ExecuteTime": {
     "end_time": "2023-04-08T22:29:29.678284Z",
     "start_time": "2023-04-08T22:29:29.548212Z"
    }
   },
   "outputs": [],
   "source": [
    "sl = slice(int(fps*50),int(fps*300))\n",
    "pl.figure(figsize = (5,5))\n",
    "# pl.plot(xnt[indices[order[1]]].mean(0)[sl],xnt[indices[order[2]]].mean(0)[sl])\n",
    "ff = 35\n",
    "pl.plot(xntf[indices[order[1]],:,ff].mean(0)[sl], xntf[indices[order[2]],:,ff].mean(0)[sl],'-', alpha = 1)"
   ]
  },
  {
   "cell_type": "code",
   "execution_count": null,
   "id": "2df2a033",
   "metadata": {
    "ExecuteTime": {
     "end_time": "2023-04-08T22:22:15.603725Z",
     "start_time": "2023-04-08T22:22:15.601212Z"
    }
   },
   "outputs": [],
   "source": [
    "angles_mnf.shape"
   ]
  },
  {
   "cell_type": "code",
   "execution_count": null,
   "id": "d313366b",
   "metadata": {
    "ExecuteTime": {
     "end_time": "2023-04-08T22:15:49.445481Z",
     "start_time": "2023-04-08T22:15:47.497779Z"
    }
   },
   "outputs": [],
   "source": [
    "angles_mnf = cm.compute_average_phase_shift(cm.coefs_xnkf, cm.coefs_ymkf)"
   ]
  },
  {
   "cell_type": "code",
   "execution_count": null,
   "id": "b6e49a0f",
   "metadata": {
    "ExecuteTime": {
     "end_time": "2023-04-08T22:15:50.105936Z",
     "start_time": "2023-04-08T22:15:50.063522Z"
    }
   },
   "outputs": [],
   "source": [
    "cluster_coherence = cm.compute_cluster_coherence(coherence_mnf, cm.labels)\n",
    "cluster_coherence_thresh = cluster_coherence.copy()\n",
    "thresh = 0.5\n",
    "cluster_coherence_thresh[cluster_coherence_thresh<thresh] = 0\n",
    "cluster_coherence_thresh[:,:,cm.freq>2] = 0"
   ]
  },
  {
   "cell_type": "code",
   "execution_count": null,
   "id": "850e46f4",
   "metadata": {
    "ExecuteTime": {
     "end_time": "2023-04-08T22:15:51.143890Z",
     "start_time": "2023-04-08T22:15:50.943745Z"
    }
   },
   "outputs": [],
   "source": [
    "pl.plot(np.abs(cm.coefs_xnkf[indices[0],:,10]).mean(0))"
   ]
  },
  {
   "cell_type": "code",
   "execution_count": null,
   "id": "229a3bdc",
   "metadata": {},
   "outputs": [],
   "source": []
  },
  {
   "cell_type": "code",
   "execution_count": null,
   "id": "48053ac2",
   "metadata": {
    "ExecuteTime": {
     "end_time": "2023-04-08T22:19:31.844983Z",
     "start_time": "2023-04-08T22:19:31.585952Z"
    }
   },
   "outputs": [],
   "source": [
    "sl = slice(int(fps*50),int(fps*100))\n",
    "# tmp = cm.eigvals_mf.copy()\n",
    "# tmp[:,40:] = 10\n",
    "# tmp[:,:20] = 1\n",
    "ind = 0\n",
    "tmp = cluster_coherence_thresh[order[ind],0]\n",
    "ymt_ = cm.backproject(cm.coefs_ymkf*tmp[None,None]).sum(-1)\n",
    "# ymt_2 = cm.backproject(cm.coefs_ymkf*tmp[order[-1],None].mean()).mean(-1)\n",
    "# cm.coefs_ymkf.shape, cm.eigvals_kf.shape\n",
    "pl.figure()\n",
    "pl.plot(ymt_[order[ind],sl].T);\n",
    "pl.plot(ymtf[order[ind],sl,30].T);\n",
    "# pl.plot(ymt_2[order[0],sl].T);\n",
    "\n",
    "\n",
    "\n"
   ]
  },
  {
   "cell_type": "code",
   "execution_count": null,
   "id": "44665e62",
   "metadata": {
    "ExecuteTime": {
     "end_time": "2023-04-08T21:59:03.235720Z",
     "start_time": "2023-04-08T21:59:03.233872Z"
    }
   },
   "outputs": [],
   "source": [
    "# sl = slice(int(fps*10),int(fps*120))\n",
    "# pl.plot(xnt[indices[0]].mean(0)[sl])"
   ]
  },
  {
   "cell_type": "code",
   "execution_count": null,
   "id": "d85dcd1f",
   "metadata": {
    "ExecuteTime": {
     "end_time": "2023-04-08T21:58:17.199317Z",
     "start_time": "2023-04-08T21:58:17.197510Z"
    }
   },
   "outputs": [],
   "source": [
    "# pl.plot(coherence_mnf[0, indices[0]].max(0)[2:])\n",
    "# pl.plot(cm.freq[10],coherence_mnf[0].mean(0)[10],'o')"
   ]
  },
  {
   "cell_type": "code",
   "execution_count": null,
   "id": "69e7a00c",
   "metadata": {
    "ExecuteTime": {
     "end_time": "2023-04-08T21:58:23.003606Z",
     "start_time": "2023-04-08T21:58:23.001842Z"
    },
    "scrolled": false
   },
   "outputs": [],
   "source": [
    "# for i in range(cm.k):\n",
    "#     pl.figure()\n",
    "#     pl.title(i)\n",
    "#     pl.plot(xntf[indices[i]].mean(0)[:,10][sl])\n",
    "# #     pl.plot(xntf[indices[i]].mean(0)[:,35][sl])\n",
    "#     pl.ylim([-0.9, 0.9])"
   ]
  },
  {
   "cell_type": "code",
   "execution_count": null,
   "id": "2be093ce",
   "metadata": {
    "ExecuteTime": {
     "end_time": "2023-04-08T22:20:10.323070Z",
     "start_time": "2023-04-08T22:20:08.799539Z"
    },
    "scrolled": true
   },
   "outputs": [],
   "source": [
    "from mpl_toolkits.axes_grid1 import make_axes_locatable\n",
    "coherence_im_mf = coherence_mnf.reshape([cm.k, dx, dy, -1]).transpose([0,3,1,2])\n",
    "angles_im_mf = np.rad2deg(angles_mnf.reshape([cm.k, dx, dy, -1]).transpose([0,3,1,2]))\n",
    "ff = 35\n",
    "for i in range(cm.k):\n",
    "    fig, axs = pl.subplots(ncols = 2, figsize = (10, 5))\n",
    "    pl.title(i)\n",
    "    \n",
    "    im_ = axs[0].imshow(coherence_im_mf[i,ff], cmap = 'coolwarm')\n",
    "    divider = make_axes_locatable(axs[0])\n",
    "    fig.colorbar(im_, ax=axs[0], orientation='vertical')\n",
    "    axs[0].axis('off')\n",
    "    axs[1].axis('off')\n",
    "    alpha = coherence_im_mf[i,ff]\n",
    "    axs[1].imshow(angles_im_mf[i,ff], cmap = 'coolwarm', alpha = alpha)\n",
    "#     pl.savefig(dirs['cmm'] + f'phase {ff} cluster {i}', transparent = True, bbox_inches = 'tight')"
   ]
  },
  {
   "cell_type": "code",
   "execution_count": null,
   "id": "77490787",
   "metadata": {
    "ExecuteTime": {
     "end_time": "2023-04-08T21:30:21.415004Z",
     "start_time": "2023-04-08T21:30:21.186256Z"
    }
   },
   "outputs": [],
   "source": [
    "ff = 35\n",
    "ind = 0\n",
    "\n",
    "alpha = coherence_mnf[order[ind], :,ff].reshape([dx, dy])\n",
    "pl.figure()\n",
    "pl.title('phase')\n",
    "pl.imshow(angles_im_mf[order[ind],ff], cmap = 'coolwarm', alpha = alpha)\n",
    "pl.colorbar()\n",
    "pl.axis('off')\n",
    "pl.savefig(dirs['cmm'] + f'phase {ff} cluster {ind}', transparent = True, bbox_inches = 'tight')"
   ]
  },
  {
   "cell_type": "code",
   "execution_count": null,
   "id": "83173412",
   "metadata": {},
   "outputs": [],
   "source": []
  },
  {
   "cell_type": "code",
   "execution_count": null,
   "id": "1c727ab0",
   "metadata": {
    "ExecuteTime": {
     "end_time": "2023-04-08T20:21:54.749910Z",
     "start_time": "2023-04-08T20:21:54.744388Z"
    }
   },
   "outputs": [],
   "source": [
    "xnt[indices[order[0]]]"
   ]
  },
  {
   "cell_type": "code",
   "execution_count": null,
   "id": "2c54acce",
   "metadata": {
    "ExecuteTime": {
     "end_time": "2023-04-08T20:21:05.387086Z",
     "start_time": "2023-04-08T20:21:05.383709Z"
    }
   },
   "outputs": [],
   "source": []
  },
  {
   "cell_type": "code",
   "execution_count": null,
   "id": "1df7e036",
   "metadata": {
    "ExecuteTime": {
     "end_time": "2023-04-08T19:43:26.719111Z",
     "start_time": "2023-04-08T19:43:26.717230Z"
    }
   },
   "outputs": [],
   "source": [
    "# pl.plot(freqs[2:], pxf[0][2:],'o')"
   ]
  },
  {
   "cell_type": "code",
   "execution_count": null,
   "id": "e2067d29",
   "metadata": {
    "ExecuteTime": {
     "end_time": "2023-04-08T19:43:27.053434Z",
     "start_time": "2023-04-08T19:43:27.051641Z"
    }
   },
   "outputs": [],
   "source": [
    "# sl = slice(int(fps*10),int(fps*50))\n",
    "# pl.plot(xnt.mean(0)[sl])"
   ]
  },
  {
   "cell_type": "code",
   "execution_count": null,
   "id": "b6752d4d",
   "metadata": {
    "ExecuteTime": {
     "end_time": "2023-04-08T19:44:27.158649Z",
     "start_time": "2023-04-08T19:44:27.156306Z"
    }
   },
   "outputs": [],
   "source": [
    "print(order)"
   ]
  },
  {
   "cell_type": "code",
   "execution_count": null,
   "id": "271bc777",
   "metadata": {
    "ExecuteTime": {
     "end_time": "2023-04-08T19:59:47.565116Z",
     "start_time": "2023-04-08T19:59:47.449633Z"
    }
   },
   "outputs": [],
   "source": [
    "pl.plot(cm.eigvals_kf[order[0]])\n",
    "pl.plot(cm.eigvals_kf[order[-1]])\n"
   ]
  },
  {
   "cell_type": "code",
   "execution_count": null,
   "id": "62690367",
   "metadata": {},
   "outputs": [],
   "source": []
  },
  {
   "cell_type": "code",
   "execution_count": null,
   "id": "252cac00",
   "metadata": {
    "ExecuteTime": {
     "end_time": "2023-04-08T20:14:45.082868Z",
     "start_time": "2023-04-08T20:14:45.081048Z"
    }
   },
   "outputs": [],
   "source": [
    "# pl.pcolormesh(np.abs(cm.coefs_ymkf)[order[2]])\n",
    "# pl.colorbar()\n",
    "# pl.figure()\n",
    "# pl.plot()"
   ]
  },
  {
   "cell_type": "code",
   "execution_count": null,
   "id": "e6c69af6",
   "metadata": {
    "ExecuteTime": {
     "end_time": "2023-04-08T19:59:10.260640Z",
     "start_time": "2023-04-08T19:59:10.258377Z"
    }
   },
   "outputs": [],
   "source": [
    "tmp = cm.eigvals_kf.copy()\n",
    "tmp-=tmp.min(axis = -1)[:,None]"
   ]
  },
  {
   "cell_type": "code",
   "execution_count": null,
   "id": "2ae860f8",
   "metadata": {
    "ExecuteTime": {
     "end_time": "2023-04-08T20:03:58.818714Z",
     "start_time": "2023-04-08T20:03:58.816171Z"
    }
   },
   "outputs": [],
   "source": [
    "tmp[order[0],None].shape"
   ]
  },
  {
   "cell_type": "code",
   "execution_count": null,
   "id": "fd6febfd",
   "metadata": {
    "ExecuteTime": {
     "end_time": "2023-04-08T20:16:26.445562Z",
     "start_time": "2023-04-08T20:16:26.077015Z"
    }
   },
   "outputs": [],
   "source": [
    "tmp = cm.eigvals_kf.copy()\n",
    "tmp[:,40:] = 10\n",
    "tmp[:,:20] = 1\n",
    "ymt_ = cm.backproject(cm.coefs_ymkf*tmp[order[0],None,None]).mean(-1)\n",
    "ymt_2 = cm.backproject(cm.coefs_ymkf*tmp[order[-1],None].mean()).mean(-1)\n",
    "# cm.coefs_ymkf.shape, cm.eigvals_kf.shape\n",
    "\n",
    "pl.figure()\n",
    "pl.plot(ymt_[order[0],sl].T);\n",
    "# pl.plot(ymt_2[order[0],sl].T);\n",
    "\n",
    "\n",
    "pl.figure()\n",
    "pl.plot(ymt_[order[-1],sl].T);\n"
   ]
  },
  {
   "cell_type": "code",
   "execution_count": null,
   "id": "3a042672",
   "metadata": {
    "ExecuteTime": {
     "end_time": "2023-04-08T19:49:16.640007Z",
     "start_time": "2023-04-08T19:49:16.638284Z"
    }
   },
   "outputs": [],
   "source": [
    "# pl.plot((np.abs(cm.coefs_ymkf*cm.eigvals_kf[:,None])**2).sum(1)[order[0]])"
   ]
  },
  {
   "cell_type": "code",
   "execution_count": null,
   "id": "eb7de2e4",
   "metadata": {
    "ExecuteTime": {
     "end_time": "2023-04-08T19:46:43.717407Z",
     "start_time": "2023-04-08T19:46:43.510316Z"
    }
   },
   "outputs": [],
   "source": [
    "\n",
    "pl.plot(ymtf_[order[0]][sl].mean(-1))\n",
    "pl.figure()\n",
    "pl.plot(ymtf[order[0]][sl].mean(-1))"
   ]
  },
  {
   "cell_type": "code",
   "execution_count": null,
   "id": "2b628227",
   "metadata": {
    "ExecuteTime": {
     "end_time": "2023-04-08T19:44:46.389702Z",
     "start_time": "2023-04-08T19:44:46.273800Z"
    }
   },
   "outputs": [],
   "source": [
    "pl.plot(cm.eigvals_kf[order[0]])"
   ]
  },
  {
   "cell_type": "code",
   "execution_count": null,
   "id": "2a8e2b82",
   "metadata": {
    "ExecuteTime": {
     "end_time": "2023-04-08T19:43:35.734482Z",
     "start_time": "2023-04-08T19:43:35.732474Z"
    },
    "scrolled": false
   },
   "outputs": [],
   "source": [
    "# sl = slice(int(fps*10),int(fps*120))\n",
    "# pl.plot(xntf.sum(-1).mean(0)[sl])\n",
    "# sl = slice(int(fps*20),int(fps*50))\n",
    "# for i in order:\n",
    "#     pl.figure()\n",
    "#     pl.title(i)\n",
    "#     inds = np.argwhere(cm.labels == i).squeeze()\n",
    "#     pl.plot(xntf[inds].sum(-1).mean(0)[sl])"
   ]
  },
  {
   "cell_type": "code",
   "execution_count": null,
   "id": "e645b0e1",
   "metadata": {
    "ExecuteTime": {
     "end_time": "2023-04-08T19:43:37.234201Z",
     "start_time": "2023-04-08T19:43:37.231456Z"
    }
   },
   "outputs": [],
   "source": []
  },
  {
   "cell_type": "code",
   "execution_count": null,
   "id": "4bc3a9ce",
   "metadata": {
    "ExecuteTime": {
     "end_time": "2023-04-08T19:43:38.062401Z",
     "start_time": "2023-04-08T19:43:37.770212Z"
    }
   },
   "outputs": [],
   "source": []
  },
  {
   "cell_type": "code",
   "execution_count": null,
   "id": "b612dbac",
   "metadata": {
    "ExecuteTime": {
     "end_time": "2023-04-08T19:43:46.308169Z",
     "start_time": "2023-04-08T19:43:46.161140Z"
    }
   },
   "outputs": [],
   "source": []
  },
  {
   "cell_type": "code",
   "execution_count": null,
   "id": "35b86ad8",
   "metadata": {},
   "outputs": [],
   "source": []
  },
  {
   "cell_type": "code",
   "execution_count": null,
   "id": "b528b52b",
   "metadata": {
    "ExecuteTime": {
     "end_time": "2023-04-08T18:58:37.013188Z",
     "start_time": "2023-04-08T18:58:36.530605Z"
    }
   },
   "outputs": [],
   "source": [
    "for i in order[:4]:\n",
    "    pl.figure()\n",
    "    pl.title(i)\n",
    "    inds = np.argwhere(cm.labels == i).squeeze()\n",
    "    pl.plot(xnt[inds,].mean(axis = (0))[int(fps*5):int(fps*20)])"
   ]
  },
  {
   "cell_type": "code",
   "execution_count": null,
   "id": "5f850ecf",
   "metadata": {
    "ExecuteTime": {
     "end_time": "2023-04-08T18:45:10.246787Z",
     "start_time": "2023-04-08T18:45:09.607900Z"
    }
   },
   "outputs": [],
   "source": [
    "for i in np.argsort(labels_count)[:3]:\n",
    "    pl.figure()\n",
    "    pl.title(i)\n",
    "    inds = np.argwhere(cm.labels == i).squeeze()\n",
    "    pl.plot(xntf[inds,].mean(axis = (0)).sum(1)[nperseg*2 +int(fps*5):nperseg*2 +int(fps*20)])"
   ]
  },
  {
   "cell_type": "code",
   "execution_count": null,
   "id": "7787f3b9",
   "metadata": {},
   "outputs": [],
   "source": []
  },
  {
   "cell_type": "code",
   "execution_count": null,
   "id": "9e75ad17",
   "metadata": {},
   "outputs": [],
   "source": []
  },
  {
   "cell_type": "code",
   "execution_count": null,
   "id": "fe768ebf",
   "metadata": {},
   "outputs": [],
   "source": []
  },
  {
   "cell_type": "code",
   "execution_count": null,
   "id": "c48a42cf",
   "metadata": {},
   "outputs": [],
   "source": []
  },
  {
   "cell_type": "code",
   "execution_count": null,
   "id": "392d8de7",
   "metadata": {},
   "outputs": [],
   "source": []
  },
  {
   "cell_type": "code",
   "execution_count": null,
   "id": "66ff3247",
   "metadata": {},
   "outputs": [],
   "source": []
  },
  {
   "cell_type": "code",
   "execution_count": null,
   "id": "409fe464",
   "metadata": {},
   "outputs": [],
   "source": []
  },
  {
   "cell_type": "code",
   "execution_count": null,
   "id": "35f9f74a",
   "metadata": {},
   "outputs": [],
   "source": []
  },
  {
   "cell_type": "code",
   "execution_count": null,
   "id": "6882ee40",
   "metadata": {
    "ExecuteTime": {
     "end_time": "2023-04-08T15:17:19.784904Z",
     "start_time": "2023-04-08T15:17:19.658330Z"
    }
   },
   "outputs": [],
   "source": [
    "_, labels_count = np.unique(cm.labels, return_counts=True)\n",
    "for i in np.argsort(labels_count)[:1]:\n",
    "    pl.figure()\n",
    "    pl.title(i)\n",
    "    inds = np.argwhere(cm.labels == i).squeeze()\n",
    "    pl.plot(cm.xntf[inds,].mean(axis = (0)).sum(1)[nperseg*2 +int(fps*5):nperseg*2 +int(fps*20)])"
   ]
  },
  {
   "cell_type": "code",
   "execution_count": null,
   "id": "b3f446d4",
   "metadata": {
    "ExecuteTime": {
     "end_time": "2023-04-08T13:29:52.650009Z",
     "start_time": "2023-04-08T13:29:52.648111Z"
    }
   },
   "outputs": [],
   "source": [
    "# cm.analyse_results()"
   ]
  },
  {
   "cell_type": "code",
   "execution_count": null,
   "id": "eadae735",
   "metadata": {
    "ExecuteTime": {
     "end_time": "2023-04-08T13:33:07.556351Z",
     "start_time": "2023-04-08T13:33:02.590293Z"
    }
   },
   "outputs": [],
   "source": []
  },
  {
   "cell_type": "code",
   "execution_count": null,
   "id": "fc9089e1",
   "metadata": {},
   "outputs": [],
   "source": [
    "xntf"
   ]
  },
  {
   "cell_type": "code",
   "execution_count": null,
   "id": "e42ad042",
   "metadata": {
    "ExecuteTime": {
     "end_time": "2023-04-08T14:45:23.656285Z",
     "start_time": "2023-04-08T14:45:23.653341Z"
    }
   },
   "outputs": [],
   "source": [
    "_, labels_count = np.unique(cm.labels, return_counts=True)\n",
    "for i in np.argsort(labels_count)[:1]:\n",
    "    pl.figure()\n",
    "    pl.title(i)\n",
    "    inds = np.argwhere(cm.labels == i).squeeze()\n",
    "    pl.plot(xntf[inds,].mean(axis = (0)).sum(1)[nperseg*2 +int(fps*5):nperseg*2 +int(fps*20)])"
   ]
  },
  {
   "cell_type": "code",
   "execution_count": null,
   "id": "f861f0e7",
   "metadata": {
    "ExecuteTime": {
     "end_time": "2023-04-08T14:50:06.579938Z",
     "start_time": "2023-04-08T14:50:06.457894Z"
    }
   },
   "outputs": [],
   "source": [
    "for i in np.argsort(labels_count)[:1]:\n",
    "    pl.figure()\n",
    "    pl.title(i)\n",
    "    inds = np.argwhere(cm.labels == i).squeeze()\n",
    "    pl.plot(ymtf[i,:,40:60].sum(1)[nperseg*2 +int(fps*5):nperseg*2 +int(fps*20)])"
   ]
  },
  {
   "cell_type": "code",
   "execution_count": null,
   "id": "99266ac4",
   "metadata": {
    "ExecuteTime": {
     "end_time": "2023-04-08T14:48:06.236487Z",
     "start_time": "2023-04-08T14:48:06.089890Z"
    }
   },
   "outputs": [],
   "source": [
    "for i in np.argsort(labels_count)[:1]:\n",
    "    pl.figure()\n",
    "    pl.title(i)\n",
    "    inds = np.argwhere(cm.labels == i).squeeze()\n",
    "    pl.plot(xntf[inds,].mean(axis = (0)).sum(1)[nperseg*2 +int(fps*5):nperseg*2 +int(fps*20)])"
   ]
  },
  {
   "cell_type": "code",
   "execution_count": null,
   "id": "5bc8114a",
   "metadata": {
    "ExecuteTime": {
     "end_time": "2023-04-08T14:47:24.376759Z",
     "start_time": "2023-04-08T14:47:23.158423Z"
    },
    "scrolled": false
   },
   "outputs": [],
   "source": [
    "for i in np.argsort(labels_count):\n",
    "    pl.figure()\n",
    "    pl.title(i)\n",
    "    inds = np.argwhere(cm.labels == i).squeeze()\n",
    "    pl.plot(xnt[inds,].mean(axis = (0))[int(fps*5):int(fps*20)])"
   ]
  },
  {
   "cell_type": "markdown",
   "id": "ae8cc03d",
   "metadata": {},
   "source": [
    "### plot results"
   ]
  },
  {
   "cell_type": "code",
   "execution_count": null,
   "id": "b9d73735",
   "metadata": {
    "ExecuteTime": {
     "end_time": "2023-04-08T13:28:40.601936Z",
     "start_time": "2023-04-08T13:28:40.478650Z"
    }
   },
   "outputs": [],
   "source": [
    "pl.imshow(cm.labels.reshape([dx, dy]), interpolation=None, cmap = 'tab20')\n",
    "pl.colorbar()"
   ]
  },
  {
   "cell_type": "code",
   "execution_count": null,
   "id": "2a938fc7",
   "metadata": {},
   "outputs": [],
   "source": []
  },
  {
   "cell_type": "code",
   "execution_count": null,
   "id": "ee22a433",
   "metadata": {
    "ExecuteTime": {
     "end_time": "2023-04-08T13:15:28.644332Z",
     "start_time": "2023-04-08T13:15:28.540896Z"
    }
   },
   "outputs": [],
   "source": [
    "pl.plot(cm.kmeans_init_mt[5][:fs*4])"
   ]
  },
  {
   "cell_type": "code",
   "execution_count": null,
   "id": "a3aced24",
   "metadata": {
    "ExecuteTime": {
     "end_time": "2023-04-08T13:15:32.105665Z",
     "start_time": "2023-04-08T13:15:32.006472Z"
    }
   },
   "outputs": [],
   "source": [
    "pl.imshow(cm.labels_init.reshape([dx, dy]), interpolation=None)"
   ]
  },
  {
   "cell_type": "code",
   "execution_count": null,
   "id": "12ec561e",
   "metadata": {
    "ExecuteTime": {
     "end_time": "2023-04-08T13:28:28.193610Z",
     "start_time": "2023-04-08T13:28:28.070341Z"
    }
   },
   "outputs": [],
   "source": []
  },
  {
   "cell_type": "code",
   "execution_count": null,
   "id": "c523a30f",
   "metadata": {},
   "outputs": [],
   "source": []
  }
 ],
 "metadata": {
  "kernelspec": {
   "display_name": "Python 3 (ipykernel)",
   "language": "python",
   "name": "python3"
  },
  "language_info": {
   "codemirror_mode": {
    "name": "ipython",
    "version": 3
   },
   "file_extension": ".py",
   "mimetype": "text/x-python",
   "name": "python",
   "nbconvert_exporter": "python",
   "pygments_lexer": "ipython3",
   "version": "3.11.0"
  }
 },
 "nbformat": 4,
 "nbformat_minor": 5
}
